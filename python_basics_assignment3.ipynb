{
 "cells": [
  {
   "cell_type": "markdown",
   "id": "d2328cad",
   "metadata": {},
   "source": [
    "# Python Basics Assignment\n",
    "\n",
    "This notebook contains 20 basic Python questions.  \n",
    "Each question carries **1 mark**. Write your answer in the cell provided.  \n"
   ]
  },
  {
   "cell_type": "markdown",
   "id": "cb537954",
   "metadata": {},
   "source": [
    "### Question 1\n",
    "Write a function that returns the square of a number."
   ]
  },
  {
   "cell_type": "code",
   "execution_count": 73,
   "id": "cf213ba2",
   "metadata": {},
   "outputs": [
    {
     "name": "stdout",
     "output_type": "stream",
     "text": [
      "The square of 5 is 25\n"
     ]
    }
   ],
   "source": [
    "def square_number(n):\n",
    "    return n ** 2\n",
    "\n",
    "n = 5\n",
    "squared_number = square_number(n)\n",
    "print(f\"The square of {n} is {squared_number}\")"
   ]
  },
  {
   "cell_type": "markdown",
   "id": "4eaff430",
   "metadata": {},
   "source": [
    "### Question 2\n",
    "Write a function that checks whether a number is even."
   ]
  },
  {
   "cell_type": "code",
   "execution_count": null,
   "id": "81934cf7",
   "metadata": {},
   "outputs": [
    {
     "name": "stdout",
     "output_type": "stream",
     "text": [
      "4 is even: True\n",
      "7 is even: False\n"
     ]
    }
   ],
   "source": [
    "def is_even(n):\n",
    "    return n % 2 == 0\n",
    "\n",
    "num1 = 4\n",
    "num2 = 7\n",
    "print(f\"{num1} is even: {is_even(num1)}\")\n",
    "print(f\"{num2} is even: {is_even(num2)}\")"
   ]
  },
  {
   "cell_type": "markdown",
   "id": "5f061e50",
   "metadata": {},
   "source": [
    "### Question 3\n",
    "Write a function to return the maximum of two numbers."
   ]
  },
  {
   "cell_type": "code",
   "execution_count": 52,
   "id": "44e2a596",
   "metadata": {},
   "outputs": [
    {
     "name": "stdout",
     "output_type": "stream",
     "text": [
      "The maximum of 10 and 5 is 10\n"
     ]
    }
   ],
   "source": [
    "def find_max(num1, num2):\n",
    "    if num1 > num2:\n",
    "        return num1\n",
    "    else:\n",
    "        return num2\n",
    "\n",
    "n1 = 10\n",
    "n2 = 5\n",
    "maximum = find_max(n1, n2)\n",
    "print(f\"The maximum of {n1} and {n2} is {maximum}\")"
   ]
  },
  {
   "cell_type": "markdown",
   "id": "7513ca91",
   "metadata": {},
   "source": [
    "### Question 4\n",
    "Write a function to return the factorial of a number."
   ]
  },
  {
   "cell_type": "code",
   "execution_count": 54,
   "id": "6617842f",
   "metadata": {},
   "outputs": [
    {
     "name": "stdout",
     "output_type": "stream",
     "text": [
      "The factorial of 5 is 120\n"
     ]
    }
   ],
   "source": [
    "def factorial(n):\n",
    "    if n < 0:\n",
    "        raise ValueError(\"Factorial is not defined for negative numbers\")\n",
    "    elif n == 0:\n",
    "        return 1\n",
    "    else:\n",
    "        result = 1\n",
    "        for i in range(1, n + 1):\n",
    "            result *= i\n",
    "        return result\n",
    "\n",
    "num = 5\n",
    "fact = factorial(num)\n",
    "if fact is not None:\n",
    "    print(f\"The factorial of {num} is {fact}\")"
   ]
  },
  {
   "cell_type": "markdown",
   "id": "9b942098",
   "metadata": {},
   "source": [
    "### Question 5\n",
    "Write a function to reverse a string."
   ]
  },
  {
   "cell_type": "code",
   "execution_count": 55,
   "id": "d606b194",
   "metadata": {},
   "outputs": [
    {
     "name": "stdout",
     "output_type": "stream",
     "text": [
      "Original string: hello\n",
      "Reversed string: olleh\n"
     ]
    }
   ],
   "source": [
    "def reverse_string(input):\n",
    "    if not isinstance(input, str):\n",
    "        return \"\"\n",
    "    return input[::-1]\n",
    "\n",
    "string = \"hello\"\n",
    "reversed_string = reverse_string(string)\n",
    "print(f\"Original string: {string}\")\n",
    "print(f\"Reversed string: {reversed_string}\")"
   ]
  },
  {
   "cell_type": "markdown",
   "id": "1abd915b",
   "metadata": {},
   "source": [
    "### Question 6\n",
    "Write a function to check if a string is a palindrome."
   ]
  },
  {
   "cell_type": "code",
   "execution_count": 56,
   "id": "2b868fb3",
   "metadata": {},
   "outputs": [
    {
     "name": "stdout",
     "output_type": "stream",
     "text": [
      "'Racecar' is a palindrome: True\n"
     ]
    }
   ],
   "source": [
    "def is_palindrome(input):\n",
    "    if not isinstance(input, str):\n",
    "        return False\n",
    "    string = \"\".join(c.lower() for c in input if c.isalnum())\n",
    "    return string == string[::-1]\n",
    "\n",
    "string1 = \"Racecar\"\n",
    "result1 = is_palindrome(string1)\n",
    "print(f\"'{string1}' is a palindrome: {result1}\")"
   ]
  },
  {
   "cell_type": "markdown",
   "id": "5f2f3791",
   "metadata": {},
   "source": [
    "### Question 7\n",
    "Write a function to count vowels in a string."
   ]
  },
  {
   "cell_type": "code",
   "execution_count": 57,
   "id": "73fefa50",
   "metadata": {},
   "outputs": [
    {
     "name": "stdout",
     "output_type": "stream",
     "text": [
      "Number of vowels in 'hello': 2\n"
     ]
    }
   ],
   "source": [
    "def count_vowels(input_string):\n",
    "    if not isinstance(input_string, str):\n",
    "        return 0\n",
    "\n",
    "    vowels = \"aeiouAEIOU\"\n",
    "    count = 0\n",
    "    for char in input_string:\n",
    "        if char in vowels:\n",
    "            count += 1\n",
    "    return count\n",
    "\n",
    "test_string1 = \"hello\"\n",
    "vowel_count1 = count_vowels(test_string1)\n",
    "print(f\"Number of vowels in '{test_string1}': {vowel_count1}\")"
   ]
  },
  {
   "cell_type": "markdown",
   "id": "0d3a9996",
   "metadata": {},
   "source": [
    "### Question 8\n",
    "Write a function that returns the sum of a list."
   ]
  },
  {
   "cell_type": "code",
   "execution_count": 58,
   "id": "ab6afc66",
   "metadata": {},
   "outputs": [
    {
     "name": "stdout",
     "output_type": "stream",
     "text": [
      "Sum of [1, 2, 3, 4, 5]: 15\n"
     ]
    }
   ],
   "source": [
    "def sum_of_list(input_list):\n",
    "    if not isinstance(input_list, list):\n",
    "        return 0\n",
    "    if not input_list:\n",
    "        return 0\n",
    "\n",
    "    total = 0\n",
    "    for number in input_list:\n",
    "        if isinstance(number, (int, float)):\n",
    "            total += number\n",
    "        else:\n",
    "            print(f\"Warning: Skipping non-numeric value: {number}\")\n",
    "    return total\n",
    "\n",
    "numbers1 = [1, 2, 3, 4, 5]\n",
    "result1 = sum_of_list(numbers1)\n",
    "print(f\"Sum of {numbers1}: {result1}\")"
   ]
  },
  {
   "cell_type": "markdown",
   "id": "f6682500",
   "metadata": {},
   "source": [
    "### Question 9\n",
    "Write a function to find the smallest number in a list."
   ]
  },
  {
   "cell_type": "code",
   "execution_count": 59,
   "id": "6798a641",
   "metadata": {},
   "outputs": [
    {
     "name": "stdout",
     "output_type": "stream",
     "text": [
      "Smallest in [3, 1, 4, 1, 5, 9, 2, 6]: 1\n"
     ]
    }
   ],
   "source": [
    "def find_smallest(input_list):\n",
    "    if not isinstance(input_list, list):\n",
    "        return None \n",
    "    if not input_list:\n",
    "        return None \n",
    "\n",
    "    smallest = input_list[0] \n",
    "    for number in input_list:\n",
    "        if isinstance(number, (int, float)): \n",
    "            if number < smallest:\n",
    "                smallest = number\n",
    "        else:\n",
    "             print(f\"Warning: Skipping non-numeric value: {number}\")\n",
    "\n",
    "    return smallest\n",
    "\n",
    "numbers1 = [3, 1, 4, 1, 5, 9, 2, 6]\n",
    "smallest1 = find_smallest(numbers1)\n",
    "print(f\"Smallest in {numbers1}: {smallest1}\") "
   ]
  },
  {
   "cell_type": "markdown",
   "id": "fb11e683",
   "metadata": {},
   "source": [
    "### Question 10\n",
    "Write a function to remove duplicates from a list."
   ]
  },
  {
   "cell_type": "code",
   "execution_count": 60,
   "id": "7c53f88c",
   "metadata": {},
   "outputs": [
    {
     "name": "stdout",
     "output_type": "stream",
     "text": [
      "Original list: [1, 2, 2, 3, 4, 4, 5, 1]\n",
      "List with duplicates removed: [1, 2, 3, 4, 5]\n"
     ]
    }
   ],
   "source": [
    "def remove_duplicates(input_list):\n",
    "    if not isinstance(input_list, list):\n",
    "        return [] \n",
    "\n",
    "    seen = set() \n",
    "    unique_list = []\n",
    "    for item in input_list:\n",
    "        if item not in seen:\n",
    "            seen.add(item)\n",
    "            unique_list.append(item)\n",
    "    return unique_list\n",
    "\n",
    "numbers = [1, 2, 2, 3, 4, 4, 5, 1]\n",
    "unique_numbers = remove_duplicates(numbers)\n",
    "print(f\"Original list: {numbers}\")\n",
    "print(f\"List with duplicates removed: {unique_numbers}\")"
   ]
  },
  {
   "cell_type": "markdown",
   "id": "9c380a5c",
   "metadata": {},
   "source": [
    "### Question 11\n",
    "Write a function to sort a list in ascending order."
   ]
  },
  {
   "cell_type": "code",
   "execution_count": 1,
   "id": "8e43832f",
   "metadata": {},
   "outputs": [
    {
     "name": "stdout",
     "output_type": "stream",
     "text": [
      "Original list: [5, 2, 8, 1, 9, 3]\n",
      "Sorted list: [1, 2, 3, 5, 8, 9]\n"
     ]
    }
   ],
   "source": [
    "def sort_list_ascending(input_list):\n",
    "\n",
    "    if not isinstance(input_list, list):\n",
    "        return []  \n",
    "    \n",
    "    sorted_list = input_list[:] \n",
    "    sorted_list = sorted(sorted_list)\n",
    "\n",
    "    return sorted_list\n",
    "\n",
    "numbers1 = [5, 2, 8, 1, 9, 3]\n",
    "sorted_numbers1 = sort_list_ascending(numbers1)\n",
    "print(f\"Original list: {numbers1}\")\n",
    "print(f\"Sorted list: {sorted_numbers1}\")"
   ]
  },
  {
   "cell_type": "markdown",
   "id": "1270c91c",
   "metadata": {},
   "source": [
    "### Question 12\n",
    "Write a function that returns the length of a string."
   ]
  },
  {
   "cell_type": "code",
   "execution_count": 61,
   "id": "87f35472",
   "metadata": {},
   "outputs": [
    {
     "name": "stdout",
     "output_type": "stream",
     "text": [
      "Original list: [5, 2, 8, 1, 9, 3]\n",
      "Sorted list: [1, 2, 3, 5, 8, 9]\n"
     ]
    }
   ],
   "source": [
    "def sort_list_ascending(input_list):\n",
    "    if not isinstance(input_list, list):\n",
    "        return [] \n",
    "\n",
    "    sorted_list = input_list[:] \n",
    "    sorted_list = sorted(sorted_list)\n",
    "\n",
    "    return sorted_list\n",
    "\n",
    "numbers1 = [5, 2, 8, 1, 9, 3]\n",
    "sorted_numbers1 = sort_list_ascending(numbers1)\n",
    "print(f\"Original list: {numbers1}\")\n",
    "print(f\"Sorted list: {sorted_numbers1}\") "
   ]
  },
  {
   "cell_type": "markdown",
   "id": "9a8e3d28",
   "metadata": {},
   "source": [
    "### Question 13\n",
    "Write a function to count words in a sentence."
   ]
  },
  {
   "cell_type": "code",
   "execution_count": 64,
   "id": "e6f996ef",
   "metadata": {},
   "outputs": [
    {
     "name": "stdout",
     "output_type": "stream",
     "text": [
      "'This is a sentence' having 4 words.\n"
     ]
    }
   ],
   "source": [
    "def count_words(sentence):\n",
    "   \n",
    "    if not isinstance(sentence, str):\n",
    "        return 0 \n",
    "    if not sentence:\n",
    "        return 0\n",
    "\n",
    "    word_count = 0\n",
    "    in_word = False \n",
    "    for char in sentence:\n",
    "        if char.isalnum(): \n",
    "            if not in_word:\n",
    "                in_word = True\n",
    "                word_count += 1\n",
    "        else:\n",
    "            in_word = False\n",
    "    return word_count\n",
    "\n",
    "sentence1 = \"This is a sentence\"\n",
    "word_count1 = count_words(sentence1)\n",
    "print(f\"'{sentence1}' having {word_count1} words.\")"
   ]
  },
  {
   "cell_type": "markdown",
   "id": "430c2e4a",
   "metadata": {},
   "source": [
    "### Question 14\n",
    "Write a function to convert Celsius to Fahrenheit."
   ]
  },
  {
   "cell_type": "code",
   "execution_count": 65,
   "id": "b710b0bd",
   "metadata": {},
   "outputs": [
    {
     "name": "stdout",
     "output_type": "stream",
     "text": [
      "0°C is equal to 32.0°F\n"
     ]
    }
   ],
   "source": [
    "def celsius_to_fahrenheit(celsius):\n",
    "\n",
    "    if not isinstance(celsius, (int, float)):\n",
    "        return None \n",
    "\n",
    "    fahrenheit = (celsius * 9/5) + 32\n",
    "    return fahrenheit\n",
    "\n",
    "temp_celsius1 = 0\n",
    "temp_fahrenheit1 = celsius_to_fahrenheit(temp_celsius1)\n",
    "print(f\"{temp_celsius1}°C is equal to {temp_fahrenheit1}°F\") "
   ]
  },
  {
   "cell_type": "markdown",
   "id": "acefe5e3",
   "metadata": {},
   "source": [
    "### Question 15\n",
    "Write a function to check if a number is prime."
   ]
  },
  {
   "cell_type": "code",
   "execution_count": 66,
   "id": "b700abae",
   "metadata": {},
   "outputs": [
    {
     "name": "stdout",
     "output_type": "stream",
     "text": [
      "2 is prime: True\n"
     ]
    }
   ],
   "source": [
    "def is_prime(number):\n",
    "\n",
    "    if not isinstance(number, int):\n",
    "        return False \n",
    "    if number <= 1:\n",
    "        return False \n",
    "\n",
    "    for i in range(2, int(number**0.5) + 1):\n",
    "        if number % i == 0:\n",
    "            return False \n",
    "\n",
    "    return True \n",
    "num1 = 2\n",
    "result1 = is_prime(num1)\n",
    "print(f\"{num1} is prime: {result1}\") "
   ]
  },
  {
   "cell_type": "markdown",
   "id": "b63452cb",
   "metadata": {},
   "source": [
    "### Question 16\n",
    "Write a function to return all even numbers in a list."
   ]
  },
  {
   "cell_type": "code",
   "execution_count": 69,
   "id": "9d1fc968",
   "metadata": {},
   "outputs": [
    {
     "name": "stdout",
     "output_type": "stream",
     "text": [
      "Even numbers in [1, 2, 3, 4, 5, 6]: [2, 4, 6]\n"
     ]
    }
   ],
   "source": [
    "def get_even_numbers(input_list):\n",
    "\n",
    "    if not isinstance(input_list, list):\n",
    "        return []\n",
    "\n",
    "    even_numbers = []\n",
    "    for number in input_list:\n",
    "        if isinstance(number, (int, float)): \n",
    "            if number % 2 == 0:\n",
    "                even_numbers.append(number)\n",
    "        else:\n",
    "            print(f\"Warning: Skipping non-numeric value: {number}\")\n",
    "\n",
    "    return even_numbers\n",
    "\n",
    "numbers1 = [1, 2, 3, 4, 5, 6]\n",
    "even_numbers1 = get_even_numbers(numbers1)\n",
    "print(f\"Even numbers in {numbers1}: {even_numbers1}\") "
   ]
  },
  {
   "cell_type": "markdown",
   "id": "aca524d9",
   "metadata": {},
   "source": [
    "### Question 17\n",
    "Write a function to return the nth Fibonacci number."
   ]
  },
  {
   "cell_type": "code",
   "execution_count": 68,
   "id": "97dc4e87",
   "metadata": {},
   "outputs": [
    {
     "name": "stdout",
     "output_type": "stream",
     "text": [
      "Fibonacci(0) = 0\n",
      "Fibonacci(1) = 1\n",
      "Fibonacci(2) = 1\n",
      "Fibonacci(3) = 2\n",
      "Fibonacci(4) = 3\n",
      "Fibonacci(5) = 5\n",
      "Fibonacci(6) = 8\n",
      "Fibonacci(7) = 13\n",
      "Fibonacci(8) = 21\n",
      "Fibonacci(9) = 34\n",
      "Fibonacci(10) = 55\n",
      "Fibonacci(3.14) = None\n"
     ]
    }
   ],
   "source": [
    "def nth_fibonacci(n):\n",
    "\n",
    "    if not isinstance(n, int) or n < 0:\n",
    "        return None\n",
    "\n",
    "    if n <= 1:\n",
    "        return n \n",
    "    else:\n",
    "        a = 0\n",
    "        b = 1\n",
    "        for _ in range(2, n + 1):\n",
    "            a, b = b, a + b \n",
    "        return b\n",
    "\n",
    "for i in range(10):\n",
    "    print(f\"Fibonacci({i}) = {nth_fibonacci(i)}\")\n",
    "\n",
    "print(f\"Fibonacci(10) = {nth_fibonacci(10)}\")  \n",
    "print(f\"Fibonacci(3.14) = {nth_fibonacci(3.14)}\") "
   ]
  },
  {
   "cell_type": "markdown",
   "id": "29c847dc",
   "metadata": {},
   "source": [
    "### Question 18\n",
    "Write a function to calculate the average of a list."
   ]
  },
  {
   "cell_type": "code",
   "execution_count": 70,
   "id": "9adc9fd2",
   "metadata": {},
   "outputs": [
    {
     "name": "stdout",
     "output_type": "stream",
     "text": [
      "Average of [1, 2, 3, 4, 5]: 3.0\n"
     ]
    }
   ],
   "source": [
    "def calculate_average(input_list):\n",
    "\n",
    "    if not isinstance(input_list, list):\n",
    "        return None  \n",
    "    if not input_list:\n",
    "        return None \n",
    "\n",
    "    total = 0\n",
    "    count = 0\n",
    "    for number in input_list:\n",
    "        if isinstance(number, (int, float)): \n",
    "            total += number\n",
    "            count += 1\n",
    "        else:\n",
    "            print(f\"Warning: Skipping non-numeric value: {number}\")\n",
    "            \n",
    "    if count == 0:\n",
    "        return None\n",
    "    return total / count\n",
    "\n",
    "numbers1 = [1, 2, 3, 4, 5]\n",
    "average1 = calculate_average(numbers1)\n",
    "print(f\"Average of {numbers1}: {average1}\")"
   ]
  },
  {
   "cell_type": "markdown",
   "id": "420240fb",
   "metadata": {},
   "source": [
    "### Question 19\n",
    "Write a function that returns a dictionary of character counts."
   ]
  },
  {
   "cell_type": "code",
   "execution_count": 71,
   "id": "95cafc54",
   "metadata": {},
   "outputs": [
    {
     "name": "stdout",
     "output_type": "stream",
     "text": [
      "Character counts in 'hello': {'h': 1, 'e': 1, 'l': 2, 'o': 1}\n"
     ]
    }
   ],
   "source": [
    "def count_characters(text):\n",
    "\n",
    "    if not isinstance(text, str):\n",
    "        return {} \n",
    "\n",
    "    char_counts = {} \n",
    "    for char in text:\n",
    "        if char in char_counts:\n",
    "            char_counts[char] += 1  \n",
    "        else:\n",
    "            char_counts[char] = 1  \n",
    "    return char_counts\n",
    "\n",
    "text1 = \"hello\"\n",
    "counts1 = count_characters(text1)\n",
    "print(f\"Character counts in '{text1}': {counts1}\") "
   ]
  },
  {
   "cell_type": "markdown",
   "id": "17629a07",
   "metadata": {},
   "source": [
    "### Question 20\n",
    "Write a function that returns True if all list elements are unique."
   ]
  },
  {
   "cell_type": "code",
   "execution_count": 72,
   "id": "fe4f8820",
   "metadata": {},
   "outputs": [
    {
     "name": "stdout",
     "output_type": "stream",
     "text": [
      "List [1, 2, 3, 4, 5] has unique elements: True\n"
     ]
    }
   ],
   "source": [
    "def all_elements_unique(input_list):\n",
    "\n",
    "    if not isinstance(input_list, list):\n",
    "        return True \n",
    "    if not input_list:\n",
    "        return True \n",
    "    seen = set()\n",
    "    for item in input_list:\n",
    "        if item in seen:\n",
    "            return False  \n",
    "        seen.add(item)\n",
    "    return True \n",
    "\n",
    "\n",
    "list1 = [1, 2, 3, 4, 5]\n",
    "result1 = all_elements_unique(list1)\n",
    "print(f\"List {list1} has unique elements: {result1}\")  "
   ]
  }
 ],
 "metadata": {
  "kernelspec": {
   "display_name": "Python 3",
   "language": "python",
   "name": "python3"
  },
  "language_info": {
   "codemirror_mode": {
    "name": "ipython",
    "version": 3
   },
   "file_extension": ".py",
   "mimetype": "text/x-python",
   "name": "python",
   "nbconvert_exporter": "python",
   "pygments_lexer": "ipython3",
   "version": "3.11.3"
  }
 },
 "nbformat": 4,
 "nbformat_minor": 5
}
